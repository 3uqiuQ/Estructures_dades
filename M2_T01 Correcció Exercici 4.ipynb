{
 "cells": [
  {
   "cell_type": "markdown",
   "id": "371cddc7",
   "metadata": {},
   "source": [
    "### **Exercici 4**  \n",
    "Crea un diccionari de la següent forma i respon a les preguntes:  \n",
    "\n",
    "compra = { \"Pomes\" : {\"Qty\": 5, \"€\": 0.42}, \"Peres\" : {\"Qty\": 3, \"€\": 0.66} }  \n",
    "\n",
    "- Afegeix alguna fruita més\n",
    "- Quant han costat les peres en total?\n",
    "- Quantes fruites hem comprat en total?\n",
    "- Quina és la fruita més cara?"
   ]
  },
  {
   "cell_type": "code",
   "execution_count": 1,
   "id": "10e947d1",
   "metadata": {},
   "outputs": [
    {
     "name": "stdout",
     "output_type": "stream",
     "text": [
      "<class 'dict'>\n",
      "{'Pomes': {'Qty': 5, '€': 0.42}, 'Peres': {'Qty': 3, '€': 0.66}}\n",
      "\n",
      "\n",
      "{'Pomes': {'Qty': 5, '€': 0.42}, 'Peres': {'Qty': 3, '€': 0.66}, 'Taronges': {'Qty': 10, '€': 0.53}}\n",
      "\n",
      "\n",
      "Les peres han costat 1.98 €.\n",
      "\n",
      "En total hem comprat 18 frutas.\n",
      "\n",
      "La fruita más cara son les Peres.\n"
     ]
    }
   ],
   "source": [
    "compra = { \"Pomes\" : {\"Qty\": 5, \"€\": 0.42}, \"Peres\" : {\"Qty\": 3, \"€\": 0.66} }\n",
    "print(type(compra))\n",
    "print(compra)\n",
    "print('\\n')\n",
    "\n",
    "# Afegeix alguna fruita més:\n",
    "compra['Taronges'] = {'Qty': 10, '€': 0.53}\n",
    "print(compra)\n",
    "print('\\n')\n",
    "\n",
    "# Quant han costat les peres en total?\n",
    "preu_peres = compra['Peres']['Qty'] * compra['Peres']['€']\n",
    "print ('Les peres han costat ' + str(preu_peres) + ' €.\\n')\n",
    "\n",
    "# Quantes fruites hem comprat en total?\n",
    "tot_frutas = []\n",
    "for fruta in compra:\n",
    "    tot_frutas.append(compra[fruta]['Qty'])\n",
    "sum_frut = sum(tot_frutas)\n",
    "print('En total hem comprat ' + str(sum_frut) + ' frutas.\\n')\n",
    "\n",
    "# Quina és la fruita més cara?\n",
    "preu_max = 0\n",
    "fruita_max = []\n",
    "\n",
    "for i in compra:\n",
    "        if preu_max < compra[i]['€']:\n",
    "            preu_max = compra[i]['€']\n",
    "            fruita_max = i\n",
    "fruita_max\n",
    "print('La fruita más cara son les ' + str(fruita_max) + '.')"
   ]
  },
  {
   "cell_type": "code",
   "execution_count": null,
   "id": "9d5cf4f5",
   "metadata": {},
   "outputs": [],
   "source": []
  }
 ],
 "metadata": {
  "kernelspec": {
   "display_name": "Python 3 (ipykernel)",
   "language": "python",
   "name": "python3"
  },
  "language_info": {
   "codemirror_mode": {
    "name": "ipython",
    "version": 3
   },
   "file_extension": ".py",
   "mimetype": "text/x-python",
   "name": "python",
   "nbconvert_exporter": "python",
   "pygments_lexer": "ipython3",
   "version": "3.9.13"
  }
 },
 "nbformat": 4,
 "nbformat_minor": 5
}
