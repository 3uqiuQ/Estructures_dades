{
 "cells": [
  {
   "cell_type": "markdown",
   "id": "c5cd17f8",
   "metadata": {},
   "source": [
    "### **Exercici 1**  \n",
    "Crea una llista que agrupi els mesos de l’any en trimestres  \n",
    "(1T: gener, febrer i març; 2T: abril, maig, juny...), és a dir, una llista amb 4 llistes dins."
   ]
  },
  {
   "cell_type": "code",
   "execution_count": 1,
   "id": "52849670",
   "metadata": {},
   "outputs": [
    {
     "name": "stdout",
     "output_type": "stream",
     "text": [
      "<class 'list'>\n",
      "<class 'list'>\n",
      "<class 'list'>\n",
      "<class 'list'>\n",
      "<class 'list'>\n"
     ]
    }
   ],
   "source": [
    "T1 = ['Gener', 'Febrer', 'Març']\n",
    "T2 = ['Abril', 'Maig', 'Juny']\n",
    "T3 = ['Juliol', 'Agost', 'Setembre']\n",
    "T4 = ['Octubre', 'Novembre', 'Decembre']\n",
    "mesos = [T1, T2, T3, T4]\n",
    "\n",
    "print(type(T1))\n",
    "print(type(T2))\n",
    "print(type(T3))\n",
    "print(type(T4))\n",
    "print(type(mesos))\n"
   ]
  },
  {
   "cell_type": "markdown",
   "id": "f00ff4ee",
   "metadata": {},
   "source": [
    "### **Exercici 2**  \n",
    "Crea un codi que et permeti accedir a:  \n",
    "\n",
    "- El segon mes del primer trimestre.  \n",
    "- Els mesos del primer trimestre.  \n",
    "- Setembre i octubre."
   ]
  },
  {
   "cell_type": "markdown",
   "id": "b029c175",
   "metadata": {},
   "source": [
    "*He fet servir dues maneres.  \n",
    "(no tenia clar quina volies)*"
   ]
  },
  {
   "cell_type": "code",
   "execution_count": 2,
   "id": "99f5b139",
   "metadata": {},
   "outputs": [
    {
     "name": "stdout",
     "output_type": "stream",
     "text": [
      "Febrer\n",
      "['Gener', 'Febrer', 'Març']\n",
      "['Setembre', 'Octubre']\n",
      "Febrer\n",
      "['Gener', 'Febrer', 'Març']\n",
      "['Setembre', 'Octubre']\n"
     ]
    }
   ],
   "source": [
    "T1 = ['Gener', 'Febrer', 'Març']\n",
    "T2 = ['Abril', 'Maig', 'Juny']\n",
    "T3 = ['Juliol', 'Agost', 'Setembre']\n",
    "T4 = ['Octubre', 'Novembre', 'Decembre']\n",
    "mesos = [T1, T2, T3, T4]\n",
    "\n",
    "x = T1[1]\n",
    "y = T1\n",
    "z = [T3[-1], T4[0]]\n",
    "\n",
    "print(x)\n",
    "print(y)\n",
    "print(z)\n",
    "\n",
    "xx = mesos[0][1]\n",
    "yy = mesos[0]\n",
    "zz = [mesos[2][2],mesos[3][0]]\n",
    "\n",
    "print(xx)\n",
    "print(yy)\n",
    "print(zz)\n"
   ]
  },
  {
   "cell_type": "markdown",
   "id": "22a6bbf0",
   "metadata": {},
   "source": [
    "### **Exercici 3**  \n",
    "Crea una llista amb nombres desordenats i respon a les següents preguntes:  \n",
    "\n",
    "- Quants números hi ha?\n",
    "- Quantes vegades apareix el número 3.\n",
    "- Quantes vegades apareixen els nombres 3 i 4?\n",
    "- Quin és el número més gran?\n",
    "- Quins són els 3 números més petits?\n",
    "- Quin és el rang d’aquesta llista?"
   ]
  },
  {
   "cell_type": "code",
   "execution_count": 3,
   "id": "06665d3c",
   "metadata": {},
   "outputs": [
    {
     "name": "stdout",
     "output_type": "stream",
     "text": [
      "<class 'list'>\n",
      "47 73 84 37 24 46 11 46 35 24 83 99 19 34 61 16 1 56 46 25 23 28 86 75 25 33 60 9 5 10 77 30 37 73 15 88 98 99 91 14 33 53 13 5 26 95 29 52 39 64\n",
      "\n",
      "Hi han 50 números a la llista.\n",
      "\n",
      "El número 3 apareix 0 vegades ala llista.\n",
      "\n",
      "los números 3 i 4  apareixen 0 vegades ala llista.\n",
      "\n",
      "El número més gran de la llista es el 99.\n",
      "\n",
      "Els 3 números més petits de la llista son: [1, 5, 5].\n",
      "\n",
      "El rang de la llista es 98.\n",
      "\n"
     ]
    }
   ],
   "source": [
    "import random\n",
    "\n",
    "numeros = [random.randint(0, 99) for _ in range(50)]\n",
    "print(type(numeros))\n",
    "print(*numeros)\n",
    "\n",
    "# Quants números hi ha?\n",
    "cant = len(numeros) \n",
    "print('\\nHi han ' + str(cant) + ' números a la llista.\\n')\n",
    "\n",
    "# Quantes vegades apareix el número 3?\n",
    "cant3 = numeros.count(3)\n",
    "print('El número 3 apareix ' + str(cant3) + ' vegades ala llista.\\n')\n",
    "\n",
    "# Quantes vegades apareixen els nombres 3 i 4?\n",
    "cant3_4_1 = numeros.count(3)\n",
    "cant3_4_2 = numeros.count(4)\n",
    "print('los números 3 i 4  apareixen ' + str(cant3_4_1 + cant3_4_2) + ' vegades ala llista.\\n')\n",
    "\n",
    "# Quin és el número més gran?\n",
    "gr = max(numeros)\n",
    "print('El número més gran de la llista es el ' + str(gr) + '.\\n')\n",
    "\n",
    "# Quins són els 3 números més petits?\n",
    "ord = sorted(numeros)\n",
    "petit3 = ord[:3]\n",
    "print(f'Els 3 números més petits de la llista son: ' + str(petit3) + '.\\n')\n",
    "\n",
    "# Quin és el rang d’aquesta llista?\n",
    "rango = max(numeros) - min(numeros)\n",
    "print('El rang de la llista es ' + str(rango) + '.\\n')\n"
   ]
  },
  {
   "cell_type": "markdown",
   "id": "e48ff517",
   "metadata": {},
   "source": [
    "### **Exercici 4**  \n",
    "Crea un diccionari de la següent forma i respon a les preguntes:  \n",
    "\n",
    "compra = { \"Pomes\" : {\"Qty\": 5, \"€\": 0.42}, \"Peres\" : {\"Qty\": 3, \"€\": 0.66} }  \n",
    "\n",
    "- Afegeix alguna fruita més\n",
    "- Quant han costat les peres en total?\n",
    "- Quantes fruites hem comprat en total?\n",
    "- Quina és la fruita més cara?"
   ]
  },
  {
   "cell_type": "code",
   "execution_count": 4,
   "id": "0d6b2126",
   "metadata": {},
   "outputs": [
    {
     "name": "stdout",
     "output_type": "stream",
     "text": [
      "<class 'dict'>\n",
      "{'Pomes': {'Qty': 5, '€': 0.42}, 'Peres': {'Qty': 3, '€': 0.66}}\n",
      "\n",
      "\n",
      "{'Pomes': {'Qty': 5, '€': 0.42}, 'Peres': {'Qty': 3, '€': 0.66}, 'Taronges': {'Qty': 10, '€': 0.53}}\n",
      "\n",
      "\n",
      "Les peres han costat 1.98 €.\n",
      "\n",
      "En total hem comprat 18 frutas.\n",
      "\n",
      "la fruita mes cara son les Peres.\n",
      "\n"
     ]
    }
   ],
   "source": [
    "compra = { \"Pomes\" : {\"Qty\": 5, \"€\": 0.42}, \"Peres\" : {\"Qty\": 3, \"€\": 0.66} }\n",
    "print(type(compra))\n",
    "print(compra)\n",
    "print('\\n')\n",
    "\n",
    "# Afegeix alguna fruita més:\n",
    "compra['Taronges'] = {'Qty': 10, '€': 0.53}\n",
    "print(compra)\n",
    "print('\\n')\n",
    "\n",
    "# Quant han costat les peres en total?\n",
    "preu_peres = compra['Peres']['Qty'] * compra['Peres']['€']\n",
    "print ('Les peres han costat ' + str(preu_peres) + ' €.\\n')\n",
    "\n",
    "# Quantes fruites hem comprat en total?\n",
    "tot_frutas = []\n",
    "for fruta in compra:\n",
    "    tot_frutas.append(compra[fruta]['Qty'])\n",
    "sum_frut = sum(tot_frutas)\n",
    "print('En total hem comprat ' + str(sum_frut) + ' frutas.\\n')\n",
    "\n",
    "# Quina és la fruita més cara?\n",
    "preus = []\n",
    "for i in compra:\n",
    "    preus.append(compra[i]['€'])\n",
    "mes_car = max(preus)\n",
    "\n",
    "for j in compra:\n",
    "    if  compra[j]['€'] == mes_car:\n",
    "        print('la fruita mes cara son les ' + str(j) + '.\\n')\n"
   ]
  },
  {
   "cell_type": "code",
   "execution_count": null,
   "id": "d15f2cd4",
   "metadata": {},
   "outputs": [],
   "source": []
  }
 ],
 "metadata": {
  "kernelspec": {
   "display_name": "Python 3 (ipykernel)",
   "language": "python",
   "name": "python3"
  },
  "language_info": {
   "codemirror_mode": {
    "name": "ipython",
    "version": 3
   },
   "file_extension": ".py",
   "mimetype": "text/x-python",
   "name": "python",
   "nbconvert_exporter": "python",
   "pygments_lexer": "ipython3",
   "version": "3.9.13"
  }
 },
 "nbformat": 4,
 "nbformat_minor": 5
}
